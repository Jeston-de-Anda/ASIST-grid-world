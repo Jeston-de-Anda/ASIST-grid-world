{
 "cells": [
  {
   "cell_type": "code",
   "execution_count": 1,
   "metadata": {
    "ExecuteTime": {
     "end_time": "2020-03-22T23:27:29.221928Z",
     "start_time": "2020-03-22T23:27:28.675387Z"
    }
   },
   "outputs": [],
   "source": [
    "import numpy as np\n",
    "from grid import *\n",
    "import matplotlib as mpl\n",
    "from matplotlib import pyplot as plt\n",
    "from matplotlib import animation\n",
    "import matplotlib.colors as colors"
   ]
  },
  {
   "cell_type": "code",
   "execution_count": 2,
   "metadata": {
    "ExecuteTime": {
     "end_time": "2020-03-22T23:27:29.633353Z",
     "start_time": "2020-03-22T23:27:29.577492Z"
    }
   },
   "outputs": [],
   "source": [
    "%matplotlib qt"
   ]
  },
  {
   "cell_type": "markdown",
   "metadata": {},
   "source": [
    "# General Test"
   ]
  },
  {
   "cell_type": "code",
   "execution_count": 3,
   "metadata": {
    "ExecuteTime": {
     "end_time": "2020-03-22T23:26:39.602752Z",
     "start_time": "2020-03-22T23:26:39.596765Z"
    }
   },
   "outputs": [],
   "source": [
    "obstacle = np.concatenate([np.arange(5,14).reshape(-1,1), np.ones(14-5).reshape(-1,1)+7], axis=1)"
   ]
  },
  {
   "cell_type": "code",
   "execution_count": 4,
   "metadata": {
    "ExecuteTime": {
     "end_time": "2020-03-09T14:15:17.312948Z",
     "start_time": "2020-03-09T14:15:16.979797Z"
    }
   },
   "outputs": [],
   "source": [
    "seq, board = set_board(20,20,obstacle,targets=[[2,2],[7,2]], agents=[[11,18]],beta=10)\n",
    "\n",
    "d = np.ones(1)\n",
    "while np.max(d)>0.0000001:\n",
    "    d = update(board, seq)"
   ]
  },
  {
   "cell_type": "code",
   "execution_count": 5,
   "metadata": {
    "ExecuteTime": {
     "end_time": "2020-03-09T14:15:17.321915Z",
     "start_time": "2020-03-09T14:15:17.316895Z"
    }
   },
   "outputs": [],
   "source": [
    "value = np.array(list(map(lambda x: x.value if x is not None else 1000002, seq))).reshape(22,22)"
   ]
  },
  {
   "cell_type": "code",
   "execution_count": 6,
   "metadata": {
    "ExecuteTime": {
     "end_time": "2020-03-09T14:15:17.457169Z",
     "start_time": "2020-03-09T14:15:17.324875Z"
    }
   },
   "outputs": [],
   "source": [
    "threshold=0.0001\n",
    "fig, ax = plt.subplots()\n",
    "im = ax.imshow(value.reshape(22,22), cmap=\"viridis\", interpolation='none', vmax=threshold)\n",
    "\n",
    "x,y = State.to_coord(State.targets).reshape(2,-1)\n",
    "ax.plot(x+1,y+1,'x')\n",
    "# plt.axis(\"off\")\n",
    "cbar = fig.colorbar(im, extend='max')\n",
    "cbar.cmap.set_over('black')"
   ]
  },
  {
   "cell_type": "code",
   "execution_count": 7,
   "metadata": {
    "ExecuteTime": {
     "end_time": "2020-03-09T14:15:17.468099Z",
     "start_time": "2020-03-09T14:15:17.460122Z"
    }
   },
   "outputs": [
    {
     "data": {
      "text/plain": [
       "array([[11, 18]])"
      ]
     },
     "execution_count": 7,
     "metadata": {},
     "output_type": "execute_result"
    }
   ],
   "source": [
    "State.to_coord(State.agents)"
   ]
  },
  {
   "cell_type": "code",
   "execution_count": 8,
   "metadata": {
    "ExecuteTime": {
     "end_time": "2020-03-09T14:15:19.926287Z",
     "start_time": "2020-03-09T14:15:19.199172Z"
    }
   },
   "outputs": [],
   "source": [
    "# 100 step data\n",
    "steps = 50\n",
    "single_slice = np.array(list(map(lambda x: 0. if x is not None else 2., seq))).reshape(22,22)\n",
    "dist = np.concatenate([single_slice.reshape(1,22,22),]*steps, axis=0)\n",
    "start = State.to_coord(State.agents[0])\n",
    "dist[0, start[0], start[1]] = 1.\n",
    "for i in range(1,steps):\n",
    "    for a in seq:\n",
    "        if a is None:\n",
    "            continue\n",
    "        if State.to_token(*a.coord) in State.targets:\n",
    "            cx, cy = a.coord + 1\n",
    "            dist[i, cx, cy] += dist[i-1, cx, cy]\n",
    "            continue\n",
    "        prob = np.exp(np.array(a.Q)*State.beta)\n",
    "        prob /= np.sum(prob)\n",
    "        cx, cy = a.coord + 1\n",
    "        for k, act in enumerate(a.action):\n",
    "            x, y = act.coord + 1\n",
    "            dist[i, x, y] += prob[k] * dist[i-1, cx, cy] "
   ]
  },
  {
   "cell_type": "code",
   "execution_count": 9,
   "metadata": {
    "ExecuteTime": {
     "end_time": "2020-03-09T14:15:20.106790Z",
     "start_time": "2020-03-09T14:15:19.928257Z"
    }
   },
   "outputs": [],
   "source": [
    "fig, ax = plt.subplots()\n",
    "\n",
    "threshold=1.5\n",
    "im = ax.imshow(dist[0], cmap=\"viridis\", interpolation='none', norm=colors.PowerNorm(gamma=0.5),\n",
    "               vmin=0, vmax=1)\n",
    "\n",
    "x,y = State.to_coord(State.targets).reshape(2,-1)\n",
    "ax.plot(x+1,y+1,'x',color='green')\n",
    "# plt.axis(\"off\")\n",
    "\n",
    "def animate(i):\n",
    "    global dist, im\n",
    "    threshold=1.5\n",
    "    im = ax.imshow(dist[i], cmap=\"viridis\", interpolation='none', norm=colors.PowerNorm(gamma=0.25),\n",
    "                   vmin=0., vmax=1.)\n",
    "\n",
    "    x,y = State.to_coord(State.targets).reshape(2,-1)\n",
    "    ax.plot(x+1,y+1,'x',color='green')\n",
    "    # plt.axis(\"off\")\n",
    "    \n",
    "\n",
    "cbar = fig.colorbar(im, extend='max')\n",
    "cbar.cmap.set_over('black')\n",
    "ani = animation.FuncAnimation(fig, animate, frames=steps, interval=500) \n",
    "plt.show()"
   ]
  },
  {
   "cell_type": "code",
   "execution_count": null,
   "metadata": {
    "ExecuteTime": {
     "start_time": "2020-03-08T05:58:55.578Z"
    }
   },
   "outputs": [
    {
     "name": "stderr",
     "output_type": "stream",
     "text": [
      "MovieWriter imagemagick unavailable. Trying to use pillow instead.\n"
     ]
    }
   ],
   "source": [
    "ani.save('two_targets_11_18_10.gif', writer='imagemagick', fps=2)"
   ]
  },
  {
   "cell_type": "code",
   "execution_count": null,
   "metadata": {},
   "outputs": [],
   "source": []
  },
  {
   "cell_type": "markdown",
   "metadata": {},
   "source": [
    "# Two single ones"
   ]
  },
  {
   "cell_type": "code",
   "execution_count": 3,
   "metadata": {
    "ExecuteTime": {
     "end_time": "2020-03-22T23:27:34.139777Z",
     "start_time": "2020-03-22T23:27:33.885453Z"
    }
   },
   "outputs": [],
   "source": [
    "# from grid2 import *\n",
    "import torch\n",
    "import sinkhorn_torch as sk"
   ]
  },
  {
   "cell_type": "code",
   "execution_count": 14,
   "metadata": {
    "ExecuteTime": {
     "end_time": "2020-03-23T03:40:02.642036Z",
     "start_time": "2020-03-23T03:40:01.201438Z"
    }
   },
   "outputs": [],
   "source": [
    "obstacle = np.concatenate([np.arange(5,14).reshape(-1,1), np.ones(14-5).reshape(-1,1)+7], axis=1)\n",
    "\n",
    "targetA = [2,2]\n",
    "targetB = [7,2]\n",
    "agent = [10,18]\n",
    "seq, board = set_board(20,20,obstacle,targets=[targetA,], agents=[agent,],beta=3)\n",
    "\n",
    "d = np.ones(1)\n",
    "while np.max(d)>0.0000001:\n",
    "    d = update(board, seq)\n",
    "\n",
    "seq2, board2 = set_board(20,20,obstacle,targets=[targetB,], agents=[agent,],beta=3)\n",
    "\n",
    "d = np.ones(1)\n",
    "while np.max(d)>0.0000001:\n",
    "    d = update(board2, seq2)\n",
    "\n",
    "value = np.array(list(map(lambda x: x.value if x is not None else 1000002, seq))).reshape(22,22)\n",
    "value2 = np.array(list(map(lambda x: x.value if x is not None else 1000002, seq2))).reshape(22,22)"
   ]
  },
  {
   "cell_type": "code",
   "execution_count": 15,
   "metadata": {
    "ExecuteTime": {
     "end_time": "2020-03-23T03:40:09.883090Z",
     "start_time": "2020-03-23T03:40:09.398364Z"
    }
   },
   "outputs": [],
   "source": [
    "threshold=0.0001\n",
    "fig, ax = plt.subplots()\n",
    "im = ax.imshow(value.reshape(22,22), cmap=\"viridis\", interpolation='none', vmax=threshold)\n",
    "\n",
    "# x,y = State.to_coord(State.targets).reshape(2,-1)\n",
    "y, x = targetA\n",
    "ax.plot(x+1,y+1,'x')\n",
    "# plt.axis(\"off\")\n",
    "cbar = fig.colorbar(im, extend='max')\n",
    "cbar.cmap.set_over('black')"
   ]
  },
  {
   "cell_type": "code",
   "execution_count": 16,
   "metadata": {
    "ExecuteTime": {
     "end_time": "2020-03-23T03:40:13.746411Z",
     "start_time": "2020-03-23T03:40:13.630719Z"
    }
   },
   "outputs": [],
   "source": [
    "threshold=0.0001\n",
    "fig, ax = plt.subplots()\n",
    "im = ax.imshow(value2.reshape(22,22), cmap=\"viridis\", interpolation='none', vmax=threshold)\n",
    "\n",
    "# x,y = State.to_coord(State.targets).reshape(2,-1)\n",
    "y,x = targetB\n",
    "ax.plot(x+1,y+1,'x')\n",
    "y,x = 9,18\n",
    "ax.plot(x+1,y+1,'o')\n",
    "# plt.axis(\"off\")\n",
    "cbar = fig.colorbar(im, extend='max')\n",
    "cbar.cmap.set_over('black')"
   ]
  },
  {
   "cell_type": "code",
   "execution_count": 7,
   "metadata": {
    "ExecuteTime": {
     "end_time": "2020-03-22T23:27:41.476090Z",
     "start_time": "2020-03-22T23:27:40.477716Z"
    }
   },
   "outputs": [],
   "source": [
    "# 100 step data\n",
    "steps = 50\n",
    "single_slice = np.array(list(map(lambda x: 0. if x is not None else 2., seq2))).reshape(22,22)\n",
    "dist = np.concatenate([single_slice.reshape(1,22,22),]*steps, axis=0)\n",
    "start = State.to_coord(State.agents[0])\n",
    "dist[0, start[0], start[1]] = 1.\n",
    "for i in range(1,steps):\n",
    "    for a in seq2:\n",
    "        if a is None:\n",
    "            continue\n",
    "        if State.to_token(*a.coord) in State.targets:\n",
    "            cx, cy = a.coord + 1\n",
    "            dist[i, cx, cy] += dist[i-1, cx, cy]\n",
    "            continue\n",
    "        prob = np.exp(np.array(a.Q)*State.beta)\n",
    "        prob /= np.sum(prob)\n",
    "        cx, cy = a.coord + 1\n",
    "        for k, act in enumerate(a.action):\n",
    "            x, y = act.coord + 1\n",
    "            dist[i, x, y] += prob[k] * dist[i-1, cx, cy] "
   ]
  },
  {
   "cell_type": "code",
   "execution_count": 8,
   "metadata": {
    "ExecuteTime": {
     "end_time": "2020-03-22T23:27:50.102587Z",
     "start_time": "2020-03-22T23:27:49.950443Z"
    }
   },
   "outputs": [],
   "source": [
    "fig, ax = plt.subplots()\n",
    "\n",
    "threshold=1.5\n",
    "im = ax.imshow(dist[0], cmap=\"viridis\", interpolation='none', norm=colors.PowerNorm(gamma=0.5),\n",
    "               vmin=0, vmax=1)\n",
    "\n",
    "y, x = targetB\n",
    "ax.plot(x+1,y+1,'x',color='green')\n",
    "# plt.axis(\"off\")\n",
    "\n",
    "def animate(i):\n",
    "    global dist, im\n",
    "    threshold=1.5\n",
    "    im = ax.imshow(dist[i], cmap=\"viridis\", interpolation='none', norm=colors.PowerNorm(gamma=0.25),\n",
    "                   vmin=0., vmax=1.)\n",
    "\n",
    "    y, x = targetB\n",
    "    ax.plot(x+1,y+1,'x',color='green')\n",
    "    \n",
    "    y, x = targetA\n",
    "    ax.plot(x+1,y+1,'x',color='green')\n",
    "    # plt.axis(\"off\")\n",
    "    \n",
    "\n",
    "cbar = fig.colorbar(im, extend='max')\n",
    "cbar.cmap.set_over('black')\n",
    "ani = animation.FuncAnimation(fig, animate, frames=steps, interval=500) \n",
    "plt.show()"
   ]
  },
  {
   "cell_type": "code",
   "execution_count": 19,
   "metadata": {
    "ExecuteTime": {
     "end_time": "2020-03-15T21:28:14.967687Z",
     "start_time": "2020-03-15T21:28:14.964689Z"
    }
   },
   "outputs": [],
   "source": [
    "dist_normal = dist"
   ]
  },
  {
   "cell_type": "code",
   "execution_count": 20,
   "metadata": {
    "ExecuteTime": {
     "end_time": "2020-03-15T21:28:51.897214Z",
     "start_time": "2020-03-15T21:28:15.501288Z"
    }
   },
   "outputs": [
    {
     "name": "stdout",
     "output_type": "stream",
     "text": [
      "1 -th step\n",
      "10 18 4.3248046311838086e-33 2.5378100700724476e-29 tensor([0.1660, 0.4976, 0.1686, 0.1678], dtype=torch.float64)\n",
      "2 -th step\n",
      "9 18 5.720215116293558e-32 5.072899861622838e-28 tensor([0.2495, 0.2518, 0.2493, 0.2494], dtype=torch.float64)\n",
      "10 17 9.016901276729599e-32 5.268246660203625e-28 tensor([0.1657, 0.4976, 0.1689, 0.1678], dtype=torch.float64)\n",
      "10 19 2.0708217516370555e-34 1.2193072969747794e-30 tensor([0.1663, 0.4975, 0.1684, 0.1677], dtype=torch.float64)\n",
      "11 18 5.850102703849614e-32 1.2643548232274859e-30 tensor([0.0012, 0.4987, 0.2513, 0.2487], dtype=torch.float64)\n",
      "3 -th step\n",
      "11 17 1.2240632654411875e-30 2.614525177549528e-29 tensor([0.0012, 0.4988, 0.2516, 0.2484], dtype=torch.float64)\n",
      "11 19 2.79388507856067e-33 6.094853168249514e-32 tensor([0.0012, 0.4987, 0.2511, 0.2490], dtype=torch.float64)\n",
      "12 18 1.159313776305466e-30 6.272357674398552e-32 tensor([0.0012, 0.4988, 0.2519, 0.2481], dtype=torch.float64)\n",
      "4 -th step\n",
      "11 18 5.850102703849614e-32 1.2643548232274859e-30 tensor([0.0012, 0.4987, 0.2513, 0.2487], dtype=torch.float64)\n",
      "12 17 2.4284713158323604e-29 1.29179940927838e-30 tensor([0.0012, 0.4988, 0.2523, 0.2477], dtype=torch.float64)\n",
      "12 19 5.53263461815384e-32 3.034721196585765e-33 tensor([0.0013, 0.4987, 0.2516, 0.2484], dtype=torch.float64)\n",
      "13 18 2.2947067592076604e-29 3.098828999041277e-33 tensor([0.0012, 0.4988, 0.2525, 0.2475], dtype=torch.float64)\n",
      "5 -th step\n",
      "12 18 1.159313776305466e-30 6.272357674398552e-32 tensor([0.0012, 0.4988, 0.2519, 0.2481], dtype=torch.float64)\n",
      "13 17 4.809172002637871e-28 6.356646656517295e-32 tensor([0.0012, 0.4988, 0.2529, 0.2471], dtype=torch.float64)\n",
      "13 19 1.0948012297841982e-30 1.505009844248465e-34 tensor([0.0012, 0.4988, 0.2520, 0.2480], dtype=torch.float64)\n",
      "6 -th step\n",
      "12 19 5.53263461815384e-32 3.034721196585765e-33 tensor([0.0013, 0.4987, 0.2516, 0.2484], dtype=torch.float64)\n",
      "13 18 2.2947067592076604e-29 3.098828999041277e-33 tensor([0.0012, 0.4988, 0.2525, 0.2475], dtype=torch.float64)\n",
      "7 -th step\n",
      "13 19 1.0948012297841982e-30 1.505009844248465e-34 tensor([0.0012, 0.4988, 0.2520, 0.2480], dtype=torch.float64)\n",
      "14 18 2.346454930672849e-28 1.5252302413291844e-34 tensor([0.0024, 0.3346, 0.3341, 0.3289], dtype=torch.float64)\n",
      "8 -th step\n",
      "14 17 4.91818789315769e-27 3.1172516973931554e-33 tensor([0.0024, 0.3348, 0.3344, 0.3284], dtype=torch.float64)\n",
      "14 19 1.1195207773784066e-29 7.435153839167165e-36 tensor([0.0024, 0.3344, 0.3338, 0.3293], dtype=torch.float64)\n",
      "9 -th step\n",
      "14 18 2.346454930672849e-28 1.5252302413291844e-34 tensor([0.0024, 0.3346, 0.3341, 0.3289], dtype=torch.float64)\n",
      "14 20 5.328517607338589e-31 3.6323152064364844e-37 tensor([0.0048, 0.4979, 0.4973], dtype=torch.float64)\n",
      "10 -th step\n",
      "14 17 4.91818789315769e-27 3.1172516973931554e-33 tensor([0.0024, 0.3348, 0.3344, 0.3284], dtype=torch.float64)\n",
      "14 19 1.1195207773784066e-29 7.435153839167165e-36 tensor([0.0024, 0.3344, 0.3338, 0.3293], dtype=torch.float64)\n",
      "11 -th step\n",
      "14 18 2.346454930672849e-28 1.5252302413291844e-34 tensor([0.0024, 0.3346, 0.3341, 0.3289], dtype=torch.float64)\n",
      "15 19 1.094840458304233e-30 3.660557187555446e-37 tensor([0.2465, 0.2535, 0.2529, 0.2471], dtype=torch.float64)\n",
      "12 -th step\n",
      "14 17 4.91818789315769e-27 3.1172516973931554e-33 tensor([0.0024, 0.3348, 0.3344, 0.3284], dtype=torch.float64)\n",
      "14 19 1.1195207773784066e-29 7.435153839167165e-36 tensor([0.0024, 0.3344, 0.3338, 0.3293], dtype=torch.float64)\n",
      "15 18 2.2948664822165222e-29 7.483990343613448e-36 tensor([0.2461, 0.2538, 0.2534, 0.2467], dtype=torch.float64)\n",
      "13 -th step\n",
      "14 18 2.346454930672849e-28 1.5252302413291844e-34 tensor([0.0024, 0.3346, 0.3341, 0.3289], dtype=torch.float64)\n",
      "15 19 1.094840458304233e-30 3.660557187555446e-37 tensor([0.2465, 0.2535, 0.2529, 0.2471], dtype=torch.float64)\n",
      "14 -th step\n",
      "14 19 1.1195207773784066e-29 7.435153839167165e-36 tensor([0.0024, 0.3344, 0.3338, 0.3293], dtype=torch.float64)\n",
      "15 18 2.2948664822165222e-29 7.483990343613448e-36 tensor([0.2461, 0.2538, 0.2534, 0.2467], dtype=torch.float64)\n",
      "15 -th step\n",
      "14 18 2.346454930672849e-28 1.5252302413291844e-34 tensor([0.0024, 0.3346, 0.3341, 0.3289], dtype=torch.float64)\n",
      "15 19 1.094840458304233e-30 3.660557187555446e-37 tensor([0.2465, 0.2535, 0.2529, 0.2471], dtype=torch.float64)\n",
      "16 -th step\n",
      "14 19 1.1195207773784066e-29 7.435153839167165e-36 tensor([0.0024, 0.3344, 0.3338, 0.3293], dtype=torch.float64)\n",
      "17 -th step\n",
      "15 19 1.094840458304233e-30 3.660557187555446e-37 tensor([0.2465, 0.2535, 0.2529, 0.2471], dtype=torch.float64)\n",
      "18 -th step\n",
      "19 -th step\n",
      "20 -th step\n",
      "21 -th step\n",
      "22 -th step\n",
      "23 -th step\n",
      "24 -th step\n",
      "25 -th step\n",
      "26 -th step\n",
      "27 -th step\n",
      "28 -th step\n",
      "29 -th step\n",
      "30 -th step\n",
      "31 -th step\n",
      "32 -th step\n",
      "33 -th step\n",
      "34 -th step\n",
      "35 -th step\n",
      "36 -th step\n",
      "37 -th step\n",
      "38 -th step\n",
      "39 -th step\n",
      "40 -th step\n",
      "41 -th step\n",
      "42 -th step\n",
      "43 -th step\n",
      "44 -th step\n",
      "45 -th step\n",
      "46 -th step\n",
      "47 -th step\n",
      "48 -th step\n",
      "49 -th step\n"
     ]
    }
   ],
   "source": [
    "# 100 step data\n",
    "steps = 50\n",
    "single_slice = np.array(list(map(lambda x: 0. if x is not None else 2., seq2))).reshape(22,22)\n",
    "dist = np.concatenate([single_slice.reshape(1,22,22),]*steps, axis=0)\n",
    "start = State.to_coord(State.agents[0])\n",
    "dist[0, start[0], start[1]] = 1.\n",
    "for i in range(1,steps):\n",
    "    print(i,\"-th step\")\n",
    "    for a, a_ref in zip(seq2,seq):\n",
    "        if a is None:\n",
    "            continue\n",
    "        if State.to_token(*a.coord) in State.targets:\n",
    "            cx, cy = a.coord + 1\n",
    "            dist[i, cx, cy] += dist[i-1, cx, cy]\n",
    "            continue\n",
    "            \n",
    "        rows = len(a.action)\n",
    "        col_sum = torch.tensor([1., 1.],dtype=torch.float64)\n",
    "        row_sum = torch.ones(int(rows),dtype=torch.float64) * 2/rows\n",
    "        prob1 = np.exp(np.array(a.Q)*State.beta).reshape(-1,1)\n",
    "        prob2 = np.exp(np.array(a_ref.Q)*State.beta).reshape(-1,1)\n",
    "        mat = np.concatenate([prob1,prob2], axis=1)\n",
    "        mat = torch.from_numpy(mat) # Do I need to copy this?\n",
    "        mat = sk.sinkhorn_torch(mat, row_sum=row_sum, col_sum=col_sum)\n",
    "        \n",
    "        prob = mat[:,0]\n",
    "        cx, cy = a.coord + 1\n",
    "        if dist[i-1, cx, cy]>0.1:\n",
    "            print(cx, cy, np.sum(prob1), np.sum(prob2), prob)\n",
    "        for k, act in enumerate(a.action):\n",
    "            x, y = act.coord + 1\n",
    "            dist[i, x, y] += prob[k] * dist[i-1, cx, cy] "
   ]
  },
  {
   "cell_type": "code",
   "execution_count": 21,
   "metadata": {
    "ExecuteTime": {
     "end_time": "2020-03-15T21:29:01.919844Z",
     "start_time": "2020-03-15T21:29:01.804154Z"
    }
   },
   "outputs": [],
   "source": [
    "fig, ax = plt.subplots()\n",
    "\n",
    "threshold=1.5\n",
    "im = ax.imshow(dist[0], cmap=\"viridis\", interpolation='none', norm=colors.PowerNorm(gamma=0.5),\n",
    "               vmin=0, vmax=1)\n",
    "\n",
    "y, x = targetB\n",
    "ax.plot(x+1,y+1,'x',color='green')\n",
    "# plt.axis(\"off\")\n",
    "\n",
    "def animate(i):\n",
    "    global dist, im\n",
    "    threshold=1.5 \n",
    "    im = ax.imshow(dist[i], cmap=\"viridis\", interpolation='none', norm=colors.PowerNorm(gamma=0.25),\n",
    "                   vmin=0., vmax=1.)\n",
    "\n",
    "    y, x = targetB\n",
    "    ax.plot(x+1,y+1,'x',color='green')\n",
    "    \n",
    "    y, x = targetA\n",
    "    ax.plot(x+1,y+1,'x',color='green')\n",
    "    # plt.axis(\"off\")\n",
    "    \n",
    "\n",
    "cbar = fig.colorbar(im, extend='max')\n",
    "cbar.cmap.set_over('black')\n",
    "ani = animation.FuncAnimation(fig, animate, frames=steps, interval=500) \n",
    "plt.show()"
   ]
  },
  {
   "cell_type": "code",
   "execution_count": 19,
   "metadata": {
    "ExecuteTime": {
     "end_time": "2020-03-09T18:04:15.383710Z",
     "start_time": "2020-03-09T18:03:43.438980Z"
    }
   },
   "outputs": [
    {
     "name": "stdout",
     "output_type": "stream",
     "text": [
      "1 -th step\n",
      "9 18 5.720215081079725e-32 5.072899861620564e-28 tensor([0.4877, 0.0012, 0.5098, 0.0012], dtype=torch.float64)\n",
      "2 -th step\n",
      "8 18 1.1397872772519641e-30 1.0102880145508815e-26 tensor([0.4863, 0.0012, 0.5113, 0.0012], dtype=torch.float64)\n",
      "9 17 1.1911324676762728e-30 1.0567051006033464e-26 tensor([0.4891, 0.0012, 0.5085, 0.0012], dtype=torch.float64)\n",
      "3 -th step\n",
      "7 18 2.2637899188794683e-29 2.0060201140039027e-25 tensor([0.4852, 0.0012, 0.5124, 0.0012], dtype=torch.float64)\n",
      "8 17 2.380128900884867e-29 2.110251350474632e-25 tensor([0.4872, 0.0012, 0.5104, 0.0012], dtype=torch.float64)\n",
      "9 16 2.4738807860246645e-29 2.1955632528414843e-25 tensor([0.4908, 0.0012, 0.5068, 0.0012], dtype=torch.float64)\n",
      "4 -th step\n",
      "6 18 4.486520499997039e-28 3.974832024180991e-24 tensor([0.4846, 0.0012, 0.5129, 0.0012], dtype=torch.float64)\n",
      "7 17 4.736632657408961e-28 4.1980780798519814e-24 tensor([0.4858, 0.0012, 0.5118, 0.0012], dtype=torch.float64)\n",
      "8 16 4.961227990528242e-28 4.400116387902138e-24 tensor([0.4885, 0.0012, 0.5091, 0.0012], dtype=torch.float64)\n",
      "9 15 5.1207943613407195e-28 4.546696061212254e-24 tensor([0.4930, 0.0012, 0.5046, 0.0012], dtype=torch.float64)\n",
      "5 -th step\n",
      "6 17 9.398105944808351e-27 8.327192320553459e-23 tensor([0.4849, 0.0012, 0.5127, 0.0012], dtype=torch.float64)\n",
      "7 16 9.900312173048099e-27 8.776899526835729e-23 tensor([0.4866, 0.0012, 0.5110, 0.0012], dtype=torch.float64)\n",
      "8 15 1.031512541951668e-26 9.152078762727711e-23 tensor([0.4903, 0.0012, 0.5073, 0.0012], dtype=torch.float64)\n",
      "6 -th step\n",
      "5 17 1.8611415653452874e-25 1.6487560362312577e-21 tensor([0.4845, 0.0012, 0.5131, 0.0012], dtype=torch.float64)\n",
      "6 16 1.9677826227164582e-25 1.7438496237104796e-21 tensor([0.4852, 0.0012, 0.5124, 0.0012], dtype=torch.float64)\n",
      "7 15 2.066009935208642e-25 1.8321926743692352e-21 tensor([0.4878, 0.0012, 0.5098, 0.0012], dtype=torch.float64)\n",
      "8 14 2.1372863838905095e-25 1.8971541709432873e-21 tensor([0.4926, 0.0012, 0.5051, 0.0012], dtype=torch.float64)\n",
      "7 -th step\n",
      "5 16 3.900093668797438e-24 3.455325744448413e-20 tensor([0.4845, 0.0012, 0.5131, 0.0012], dtype=torch.float64)\n",
      "6 15 4.1170396953909104e-24 3.6494211840877385e-20 tensor([0.4859, 0.0012, 0.5117, 0.0012], dtype=torch.float64)\n",
      "7 14 4.301069568149557e-24 3.8159195272397616e-20 tensor([0.4896, 0.0012, 0.5080, 0.0012], dtype=torch.float64)\n",
      "8 -th step\n",
      "4 16 3.9893805626541805e-23 6.836987922194883e-19 tensor([0.0348, 0.0023, 0.9607, 0.0022], dtype=torch.float64)\n",
      "5 15 8.171108433942592e-23 7.240278586328803e-19 tensor([0.4847, 0.0012, 0.5129, 0.0012], dtype=torch.float64)\n",
      "6 14 8.602880532980205e-23 7.628386428413796e-19 tensor([0.4870, 0.0012, 0.5107, 0.0012], dtype=torch.float64)\n",
      "7 13 8.923027075599748e-23 7.920505553613881e-19 tensor([0.4921, 0.0012, 0.5055, 0.0012], dtype=torch.float64)\n",
      "9 -th step\n",
      "4 15 8.361652792790032e-22 1.4330964693789183e-17 tensor([0.0348, 0.0023, 0.9607, 0.0022], dtype=torch.float64)\n",
      "5 14 1.7112628020735767e-21 1.5166553773849092e-17 tensor([0.4851, 0.0012, 0.5125, 0.0012], dtype=torch.float64)\n",
      "6 13 1.7939123828864737e-21 1.5914399348716658e-17 tensor([0.4887, 0.0012, 0.5089, 0.0012], dtype=torch.float64)\n",
      "7 12 1.8422220924442873e-21 1.6361416013240092e-17 tensor([0.4953, 0.0012, 0.5023, 0.0012], dtype=torch.float64)\n",
      "10 -th step\n",
      "4 14 1.7525544472362204e-20 3.003995007028082e-16 tensor([0.0347, 0.0023, 0.9608, 0.0022], dtype=torch.float64)\n",
      "5 13 3.5812082370730424e-20 3.175027075365092e-16 tensor([0.4858, 0.0012, 0.5118, 0.0012], dtype=torch.float64)\n",
      "6 12 3.7282881933541445e-20 3.309401954653117e-16 tensor([0.4913, 0.0012, 0.5063, 0.0012], dtype=torch.float64)\n",
      "11 -th step\n",
      "4 13 3.6731366520650234e-19 6.297177506647328e-15 tensor([0.0347, 0.0023, 0.9608, 0.0022], dtype=torch.float64)\n",
      "5 12 7.483913584664577e-19 6.638421373978156e-15 tensor([0.4872, 0.0012, 0.5104, 0.0012], dtype=torch.float64)\n",
      "6 11 7.70824886757058e-19 6.8467057802284205e-15 tensor([0.4952, 0.0012, 0.5024, 0.0012], dtype=torch.float64)\n",
      "12 -th step\n",
      "4 12 7.697973736154887e-18 1.320177251442456e-13 tensor([0.0346, 0.0023, 0.9609, 0.0022], dtype=torch.float64)\n",
      "5 11 1.5597472888805547e-17 1.384502554318261e-13 tensor([0.4898, 0.0012, 0.5078, 0.0012], dtype=torch.float64)\n",
      "13 -th step\n",
      "4 11 1.61311757542909e-16 2.768126593053241e-12 tensor([0.0344, 0.0023, 0.9611, 0.0022], dtype=torch.float64)\n",
      "5 10 3.233713668591973e-16 2.872897421960706e-12 tensor([0.4951, 0.0012, 0.5025, 0.0012], dtype=torch.float64)\n",
      "14 -th step\n",
      "4 10 3.3795674879201547e-15 5.805671892355986e-11 tensor([0.0341, 0.0023, 0.9615, 0.0022], dtype=torch.float64)\n",
      "5 9 3.3717996664589065e-15 2.99802837804898e-11 tensor([0.9953, 0.0023, 0.0023], dtype=torch.float64)\n",
      "15 -th step\n",
      "3 10 3.2608039380673615e-16 5.927093759885428e-10 tensor([0.0024, 0.0048, 0.9906, 0.0023], dtype=torch.float64)\n",
      "4 9 7.077430893802744e-14 1.2181576483151676e-09 tensor([0.0335, 0.0022, 0.9621, 0.0022], dtype=torch.float64)\n",
      "16 -th step\n",
      "3 9 6.7444665208922786e-15 1.2423264829458782e-08 tensor([0.0024, 0.0048, 0.9906, 0.0023], dtype=torch.float64)\n",
      "4 8 1.4585450258895148e-12 2.537825021618877e-08 tensor([0.0351, 0.9627, 0.0022], dtype=torch.float64)\n",
      "17 -th step\n",
      "3 8 1.3770228985906407e-13 2.6039129578216807e-07 tensor([0.0024, 0.0048, 0.9905, 0.0023], dtype=torch.float64)\n",
      "4 7 5.921446213747114e-11 5.315028602316563e-07 tensor([0.0359, 0.0026, 0.9593, 0.0022], dtype=torch.float64)\n",
      "18 -th step\n",
      "3 7 2.7346044557991123e-12 5.4566973827134624e-06 tensor([0.0024, 0.0048, 0.9904, 0.0024], dtype=torch.float64)\n",
      "4 6 1.1452991275838991e-09 1.1095500078688479e-05 tensor([0.0371, 0.0025, 0.9581, 0.0022], dtype=torch.float64)\n",
      "19 -th step\n",
      "3 6 5.1958774574789194e-11 0.00011433198800051353 tensor([0.0024, 0.0047, 0.9904, 0.0025], dtype=torch.float64)\n",
      "4 5 2.1697885095134168e-08 0.0002308015319412964 tensor([0.0400, 0.0025, 0.9552, 0.0022], dtype=torch.float64)\n",
      "20 -th step\n",
      "3 5 9.639966169258275e-10 0.0023947691236868526 tensor([0.0024, 0.0047, 0.9904, 0.0026], dtype=torch.float64)\n",
      "4 4 3.9692608304478255e-07 0.004767670820376534 tensor([0.0461, 0.0025, 0.9492, 0.0023], dtype=torch.float64)\n",
      "21 -th step\n",
      "3 4 1.7343568600410868e-08 0.05012850809352643 tensor([0.0023, 0.0046, 0.9904, 0.0026], dtype=torch.float64)\n",
      "4 3 4.161078323386055e-06 0.050128508093483695 tensor([0.9862, 0.0047, 0.0044, 0.0046], dtype=torch.float64)\n",
      "22 -th step\n",
      "3 3 1.799107281294247e-07 0.009048374729046085 tensor([0.0600, 0.5182, 0.3449, 0.0769], dtype=torch.float64)\n",
      "23 -th step\n",
      "3 2 1.5127665725956087e-07 0.05189605504226938 tensor([0.0342, 0.0043, 0.0035, 0.9581], dtype=torch.float64)\n",
      "4 3 4.161078323386055e-06 0.050128508093483695 tensor([0.9862, 0.0047, 0.0044, 0.0046], dtype=torch.float64)\n",
      "24 -th step\n",
      "3 3 1.799107281294247e-07 0.009048374729046085 tensor([0.0600, 0.5182, 0.3449, 0.0769], dtype=torch.float64)\n",
      "25 -th step\n",
      "3 2 1.5127665725956087e-07 0.05189605504226938 tensor([0.0342, 0.0043, 0.0035, 0.9581], dtype=torch.float64)\n",
      "4 3 4.161078323386055e-06 0.050128508093483695 tensor([0.9862, 0.0047, 0.0044, 0.0046], dtype=torch.float64)\n",
      "26 -th step\n",
      "3 3 1.799107281294247e-07 0.009048374729046085 tensor([0.0600, 0.5182, 0.3449, 0.0769], dtype=torch.float64)\n",
      "27 -th step\n",
      "3 2 1.5127665725956087e-07 0.05189605504226938 tensor([0.0342, 0.0043, 0.0035, 0.9581], dtype=torch.float64)\n",
      "4 3 4.161078323386055e-06 0.050128508093483695 tensor([0.9862, 0.0047, 0.0044, 0.0046], dtype=torch.float64)\n",
      "28 -th step\n",
      "3 3 1.799107281294247e-07 0.009048374729046085 tensor([0.0600, 0.5182, 0.3449, 0.0769], dtype=torch.float64)\n",
      "29 -th step\n",
      "3 2 1.5127665725956087e-07 0.05189605504226938 tensor([0.0342, 0.0043, 0.0035, 0.9581], dtype=torch.float64)\n",
      "4 3 4.161078323386055e-06 0.050128508093483695 tensor([0.9862, 0.0047, 0.0044, 0.0046], dtype=torch.float64)\n",
      "30 -th step\n",
      "3 3 1.799107281294247e-07 0.009048374729046085 tensor([0.0600, 0.5182, 0.3449, 0.0769], dtype=torch.float64)\n",
      "31 -th step\n",
      "3 2 1.5127665725956087e-07 0.05189605504226938 tensor([0.0342, 0.0043, 0.0035, 0.9581], dtype=torch.float64)\n",
      "4 3 4.161078323386055e-06 0.050128508093483695 tensor([0.9862, 0.0047, 0.0044, 0.0046], dtype=torch.float64)\n",
      "32 -th step\n",
      "3 3 1.799107281294247e-07 0.009048374729046085 tensor([0.0600, 0.5182, 0.3449, 0.0769], dtype=torch.float64)\n",
      "33 -th step\n",
      "3 2 1.5127665725956087e-07 0.05189605504226938 tensor([0.0342, 0.0043, 0.0035, 0.9581], dtype=torch.float64)\n",
      "4 3 4.161078323386055e-06 0.050128508093483695 tensor([0.9862, 0.0047, 0.0044, 0.0046], dtype=torch.float64)\n"
     ]
    },
    {
     "name": "stdout",
     "output_type": "stream",
     "text": [
      "34 -th step\n",
      "3 3 1.799107281294247e-07 0.009048374729046085 tensor([0.0600, 0.5182, 0.3449, 0.0769], dtype=torch.float64)\n",
      "35 -th step\n",
      "3 2 1.5127665725956087e-07 0.05189605504226938 tensor([0.0342, 0.0043, 0.0035, 0.9581], dtype=torch.float64)\n",
      "4 3 4.161078323386055e-06 0.050128508093483695 tensor([0.9862, 0.0047, 0.0044, 0.0046], dtype=torch.float64)\n",
      "36 -th step\n",
      "3 3 1.799107281294247e-07 0.009048374729046085 tensor([0.0600, 0.5182, 0.3449, 0.0769], dtype=torch.float64)\n",
      "37 -th step\n",
      "3 2 1.5127665725956087e-07 0.05189605504226938 tensor([0.0342, 0.0043, 0.0035, 0.9581], dtype=torch.float64)\n",
      "4 3 4.161078323386055e-06 0.050128508093483695 tensor([0.9862, 0.0047, 0.0044, 0.0046], dtype=torch.float64)\n",
      "38 -th step\n",
      "3 3 1.799107281294247e-07 0.009048374729046085 tensor([0.0600, 0.5182, 0.3449, 0.0769], dtype=torch.float64)\n",
      "39 -th step\n",
      "3 2 1.5127665725956087e-07 0.05189605504226938 tensor([0.0342, 0.0043, 0.0035, 0.9581], dtype=torch.float64)\n",
      "4 3 4.161078323386055e-06 0.050128508093483695 tensor([0.9862, 0.0047, 0.0044, 0.0046], dtype=torch.float64)\n",
      "40 -th step\n",
      "3 3 1.799107281294247e-07 0.009048374729046085 tensor([0.0600, 0.5182, 0.3449, 0.0769], dtype=torch.float64)\n",
      "41 -th step\n",
      "3 2 1.5127665725956087e-07 0.05189605504226938 tensor([0.0342, 0.0043, 0.0035, 0.9581], dtype=torch.float64)\n",
      "4 3 4.161078323386055e-06 0.050128508093483695 tensor([0.9862, 0.0047, 0.0044, 0.0046], dtype=torch.float64)\n",
      "42 -th step\n",
      "3 3 1.799107281294247e-07 0.009048374729046085 tensor([0.0600, 0.5182, 0.3449, 0.0769], dtype=torch.float64)\n",
      "43 -th step\n",
      "3 2 1.5127665725956087e-07 0.05189605504226938 tensor([0.0342, 0.0043, 0.0035, 0.9581], dtype=torch.float64)\n",
      "4 3 4.161078323386055e-06 0.050128508093483695 tensor([0.9862, 0.0047, 0.0044, 0.0046], dtype=torch.float64)\n",
      "44 -th step\n",
      "3 3 1.799107281294247e-07 0.009048374729046085 tensor([0.0600, 0.5182, 0.3449, 0.0769], dtype=torch.float64)\n",
      "45 -th step\n",
      "3 2 1.5127665725956087e-07 0.05189605504226938 tensor([0.0342, 0.0043, 0.0035, 0.9581], dtype=torch.float64)\n",
      "4 3 4.161078323386055e-06 0.050128508093483695 tensor([0.9862, 0.0047, 0.0044, 0.0046], dtype=torch.float64)\n",
      "46 -th step\n",
      "3 3 1.799107281294247e-07 0.009048374729046085 tensor([0.0600, 0.5182, 0.3449, 0.0769], dtype=torch.float64)\n",
      "47 -th step\n",
      "3 2 1.5127665725956087e-07 0.05189605504226938 tensor([0.0342, 0.0043, 0.0035, 0.9581], dtype=torch.float64)\n",
      "4 3 4.161078323386055e-06 0.050128508093483695 tensor([0.9862, 0.0047, 0.0044, 0.0046], dtype=torch.float64)\n",
      "48 -th step\n",
      "3 3 1.799107281294247e-07 0.009048374729046085 tensor([0.0600, 0.5182, 0.3449, 0.0769], dtype=torch.float64)\n",
      "49 -th step\n",
      "3 2 1.5127665725956087e-07 0.05189605504226938 tensor([0.0342, 0.0043, 0.0035, 0.9581], dtype=torch.float64)\n",
      "4 3 4.161078323386055e-06 0.050128508093483695 tensor([0.9862, 0.0047, 0.0044, 0.0046], dtype=torch.float64)\n"
     ]
    }
   ],
   "source": [
    "# 100 step data\n",
    "steps = 50\n",
    "single_slice = np.array(list(map(lambda x: 0. if x is not None else 2., seq2))).reshape(22,22)\n",
    "dist = np.concatenate([single_slice.reshape(1,22,22),]*steps, axis=0)\n",
    "start = State.to_coord(State.agents[0])\n",
    "dist[0, start[0], start[1]] = 1.\n",
    "for i in range(1,steps):\n",
    "    print(i,\"-th step\")\n",
    "    for a, a_ref in zip(seq2,seq):\n",
    "        if a is None:\n",
    "            continue\n",
    "        if State.to_token(*a.coord) in State.targets:\n",
    "            cx, cy = a.coord + 1\n",
    "            dist[i, cx, cy] += dist[i-1, cx, cy]\n",
    "            continue\n",
    "            \n",
    "        rows = len(a.action)\n",
    "        prob1 = np.exp(np.array(a.Q)*State.beta).reshape(-1,1)\n",
    "        prob2 = np.exp(np.array(a_ref.Q)*State.beta).reshape(-1,1)\n",
    "        row_sum = torch.from_numpy(prob1+prob2).reshape(-1)\n",
    "        row_sum /= (torch.sum(row_sum)/2)\n",
    "        col_sum = torch.tensor([1., 1.],dtype=torch.float64)\n",
    "        mat = np.concatenate([prob1,prob2], axis=1)\n",
    "        mat = torch.from_numpy(mat) # Do I need to copy this?\n",
    "        mat = sk.sinkhorn_torch(mat, row_sum=row_sum, col_sum=col_sum)\n",
    "        \n",
    "        prob = mat[:,0]\n",
    "        cx, cy = a.coord + 1\n",
    "        if dist[i-1, cx, cy]>0.1:\n",
    "            print(cx, cy, np.sum(prob1), np.sum(prob2), prob)\n",
    "        for k, act in enumerate(a.action):\n",
    "            x, y = act.coord + 1\n",
    "            dist[i, x, y] += prob[k] * dist[i-1, cx, cy] "
   ]
  },
  {
   "cell_type": "code",
   "execution_count": 20,
   "metadata": {
    "ExecuteTime": {
     "end_time": "2020-03-09T18:04:17.429998Z",
     "start_time": "2020-03-09T18:04:17.344252Z"
    }
   },
   "outputs": [],
   "source": [
    "fig, ax = plt.subplots()\n",
    "\n",
    "threshold=1.5\n",
    "im = ax.imshow(dist[0], cmap=\"viridis\", interpolation='none', norm=colors.PowerNorm(gamma=0.5),\n",
    "               vmin=0, vmax=1)\n",
    "\n",
    "y, x = targetB\n",
    "ax.plot(x+1,y+1,'x',color='green')\n",
    "# plt.axis(\"off\")\n",
    "\n",
    "def animate(i):\n",
    "    global dist, im\n",
    "    threshold=1.5\n",
    "    im = ax.imshow(dist[i], cmap=\"viridis\", interpolation='none', norm=colors.PowerNorm(gamma=0.25),\n",
    "                   vmin=0., vmax=1.)\n",
    "\n",
    "    y, x = targetB\n",
    "    ax.plot(x+1,y+1,'x',color='green')\n",
    "    \n",
    "    y, x = targetA\n",
    "    ax.plot(x+1,y+1,'x',color='green')\n",
    "    # plt.axis(\"off\")\n",
    "    \n",
    "\n",
    "cbar = fig.colorbar(im, extend='max')\n",
    "cbar.cmap.set_over('black')\n",
    "ani = animation.FuncAnimation(fig, animate, frames=steps, interval=500) \n",
    "plt.show()"
   ]
  },
  {
   "cell_type": "code",
   "execution_count": null,
   "metadata": {},
   "outputs": [],
   "source": []
  },
  {
   "cell_type": "code",
   "execution_count": null,
   "metadata": {},
   "outputs": [],
   "source": []
  },
  {
   "cell_type": "markdown",
   "metadata": {},
   "source": [
    "# try to avoid the other"
   ]
  },
  {
   "cell_type": "code",
   "execution_count": 4,
   "metadata": {
    "ExecuteTime": {
     "end_time": "2020-03-15T21:24:54.654796Z",
     "start_time": "2020-03-15T21:24:53.072455Z"
    }
   },
   "outputs": [],
   "source": [
    "agent = [9,18]\n",
    "obstacle = np.concatenate([np.arange(5,14).reshape(-1,1), np.ones(14-5).reshape(-1,1)+7], axis=1)\n",
    "\n",
    "targetA = [2,2]\n",
    "targetB = [7,2]\n",
    "seq, board = set_board(20,20,obstacle,targets=[targetA,], agents=[agent,],beta=3)\n",
    "\n",
    "d = np.ones(1)\n",
    "while np.max(d)>0.0000001:\n",
    "    d = update(board, seq, targets=[State.to_token(targetA[0],targetA[1]).item(), State.to_token(targetB[0], targetB[1]).item()], \n",
    "               values={State.to_token(targetA[0],targetA[1]).item():0, State.to_token(targetB[0], targetB[1]).item(): -20})\n",
    "\n",
    "seq2, board2 = set_board(20,20,obstacle,targets=[targetB,], agents=[agent,],beta=3)\n",
    "\n",
    "d = np.ones(1)\n",
    "while np.max(d)>0.0000001:\n",
    "    d = update(board2, seq2,targets=[State.to_token(targetA[0],targetA[1]).item(), State.to_token(targetB[0], targetB[1]).item()], \n",
    "               values={State.to_token(targetA[0],targetA[1]).item():-20, State.to_token(targetB[0], targetB[1]).item(): 0})\n",
    "\n",
    "value = np.array(list(map(lambda x: x.value if x is not None else 1000002, seq))).reshape(22,22)\n",
    "value2 = np.array(list(map(lambda x: x.value if x is not None else 1000002, seq2))).reshape(22,22)"
   ]
  },
  {
   "cell_type": "code",
   "execution_count": 5,
   "metadata": {
    "ExecuteTime": {
     "end_time": "2020-03-15T21:24:57.860575Z",
     "start_time": "2020-03-15T21:24:57.183848Z"
    }
   },
   "outputs": [],
   "source": [
    "threshold=0.0001\n",
    "fig, ax = plt.subplots()\n",
    "im = ax.imshow(value.reshape(22,22), cmap=\"viridis\", interpolation='none', vmax=threshold)\n",
    "\n",
    "# x,y = State.to_coord(State.targets).reshape(2,-1)\n",
    "y, x = targetA\n",
    "ax.plot(x+1,y+1,'x')\n",
    "# plt.axis(\"off\")\n",
    "cbar = fig.colorbar(im, extend='max')\n",
    "cbar.cmap.set_over('black')"
   ]
  },
  {
   "cell_type": "code",
   "execution_count": 6,
   "metadata": {
    "ExecuteTime": {
     "end_time": "2020-03-15T21:24:58.096947Z",
     "start_time": "2020-03-15T21:24:57.996217Z"
    }
   },
   "outputs": [],
   "source": [
    "threshold=0.0001\n",
    "fig, ax = plt.subplots()\n",
    "im = ax.imshow(value2.reshape(22,22), cmap=\"viridis\", interpolation='none', vmax=threshold)\n",
    "\n",
    "# x,y = State.to_coord(State.targets).reshape(2,-1)\n",
    "y,x = targetB\n",
    "ax.plot(x+1,y+1,'x')\n",
    "y,x = 9,18\n",
    "ax.plot(x+1,y+1,'o')\n",
    "# plt.axis(\"off\")\n",
    "cbar = fig.colorbar(im, extend='max')\n",
    "cbar.cmap.set_over('black')"
   ]
  },
  {
   "cell_type": "code",
   "execution_count": null,
   "metadata": {},
   "outputs": [],
   "source": []
  }
 ],
 "metadata": {
  "kernelspec": {
   "display_name": "Python 3",
   "language": "python",
   "name": "python3"
  },
  "language_info": {
   "codemirror_mode": {
    "name": "ipython",
    "version": 3
   },
   "file_extension": ".py",
   "mimetype": "text/x-python",
   "name": "python",
   "nbconvert_exporter": "python",
   "pygments_lexer": "ipython3",
   "version": "3.6.7"
  },
  "latex_envs": {
   "LaTeX_envs_menu_present": true,
   "autoclose": false,
   "autocomplete": true,
   "bibliofile": "biblio.bib",
   "cite_by": "apalike",
   "current_citInitial": 1,
   "eqLabelWithNumbers": true,
   "eqNumInitial": 1,
   "hotkeys": {
    "equation": "Ctrl-E",
    "itemize": "Ctrl-I"
   },
   "labels_anchors": false,
   "latex_user_defs": false,
   "report_style_numbering": false,
   "user_envs_cfg": false
  },
  "toc": {
   "base_numbering": 1,
   "nav_menu": {},
   "number_sections": true,
   "sideBar": true,
   "skip_h1_title": false,
   "title_cell": "Table of Contents",
   "title_sidebar": "Contents",
   "toc_cell": false,
   "toc_position": {
    "height": "786px",
    "left": "281px",
    "top": "141.133px",
    "width": "165px"
   },
   "toc_section_display": true,
   "toc_window_display": true
  }
 },
 "nbformat": 4,
 "nbformat_minor": 2
}
